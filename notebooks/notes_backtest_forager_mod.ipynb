{
 "cells": [
  {
   "cell_type": "code",
   "execution_count": 1,
   "id": "6a925c67-ca70-4352-a481-ab08a57122f9",
   "metadata": {},
   "outputs": [
    {
     "name": "stdout",
     "output_type": "stream",
     "text": [
      "Working directory set to: C:\\pbgui\\passivbot\n",
      "Python path: ['C:\\\\pbgui\\\\passivbot\\\\src', 'C:\\\\pbgui\\\\passivbot', 'C:\\\\pbgui\\\\passivbot\\\\notebooks', 'C:\\\\Python39\\\\python39.zip', 'C:\\\\Python39\\\\DLLs', 'C:\\\\Python39\\\\lib', 'C:\\\\Python39', 'C:\\\\pbgui\\\\venv', '', 'C:\\\\pbgui\\\\venv\\\\lib\\\\site-packages', 'C:\\\\pbgui\\\\venv\\\\lib\\\\site-packages\\\\win32', 'C:\\\\pbgui\\\\venv\\\\lib\\\\site-packages\\\\win32\\\\lib', 'C:\\\\pbgui\\\\venv\\\\lib\\\\site-packages\\\\Pythonwin']\n"
     ]
    }
   ],
   "source": [
    "%load_ext autoreload\n",
    "%autoreload 2\n",
    "%run notebook_setup.py"
   ]
  },
  {
   "cell_type": "code",
   "execution_count": 2,
   "id": "c351e684-c495-465a-bfde-7e03888aff15",
   "metadata": {},
   "outputs": [
    {
     "name": "stdout",
     "output_type": "stream",
     "text": [
      "using numba\n"
     ]
    }
   ],
   "source": [
    "import sys\n",
    "import os\n",
    "from backtest_forager import *"
   ]
  },
  {
   "cell_type": "code",
   "execution_count": 3,
   "id": "97f846a3-874c-48f4-93d8-829edc0b4bce",
   "metadata": {},
   "outputs": [
    {
     "ename": "Exception",
     "evalue": "failed to load config C:\\pbgui\\passivbot\\opt_results_forager\\2024-08-09T17_36_15_39_coins_1c1a424e_all_results.txt: failed to load config file C:\\pbgui\\passivbot\\opt_results_forager\\2024-08-09T17_36_15_39_coins_1c1a424e_all_results.txt Extra data: line 2 column 1 - line 9499 column 1 (char 5824 - 55292483)",
     "output_type": "error",
     "traceback": [
      "\u001b[1;31m---------------------------------------------------------------------------\u001b[0m",
      "\u001b[1;31mHjsonDecodeError\u001b[0m                          Traceback (most recent call last)",
      "File \u001b[1;32mC:\\pbgui\\passivbot\\src\\procedures.py:273\u001b[0m, in \u001b[0;36mload_hjson_config\u001b[1;34m(config_path)\u001b[0m\n\u001b[0;32m    272\u001b[0m \u001b[38;5;28;01mtry\u001b[39;00m:\n\u001b[1;32m--> 273\u001b[0m     \u001b[38;5;28;01mreturn\u001b[39;00m remove_OD(\u001b[43mhjson\u001b[49m\u001b[38;5;241;43m.\u001b[39;49m\u001b[43mload\u001b[49m\u001b[43m(\u001b[49m\u001b[38;5;28;43mopen\u001b[39;49m\u001b[43m(\u001b[49m\u001b[43mconfig_path\u001b[49m\u001b[43m,\u001b[49m\u001b[43m \u001b[49m\u001b[43mencoding\u001b[49m\u001b[38;5;241;43m=\u001b[39;49m\u001b[38;5;124;43m\"\u001b[39;49m\u001b[38;5;124;43mutf-8\u001b[39;49m\u001b[38;5;124;43m\"\u001b[39;49m\u001b[43m)\u001b[49m\u001b[43m)\u001b[49m)\n\u001b[0;32m    274\u001b[0m \u001b[38;5;28;01mexcept\u001b[39;00m \u001b[38;5;167;01mException\u001b[39;00m \u001b[38;5;28;01mas\u001b[39;00m e:\n",
      "File \u001b[1;32mC:\\pbgui\\venv\\lib\\site-packages\\hjson\\__init__.py:117\u001b[0m, in \u001b[0;36mload\u001b[1;34m(fp, encoding, cls, object_hook, parse_float, parse_int, object_pairs_hook, use_decimal, namedtuple_as_object, tuple_as_array, **kw)\u001b[0m\n\u001b[0;32m     75\u001b[0m \u001b[38;5;250m\u001b[39m\u001b[38;5;124;03m\"\"\"Deserialize ``fp`` (a ``.read()``-supporting file-like object containing\u001b[39;00m\n\u001b[0;32m     76\u001b[0m \u001b[38;5;124;03ma JSON document) to a Python object.\u001b[39;00m\n\u001b[0;32m     77\u001b[0m \n\u001b[1;32m   (...)\u001b[0m\n\u001b[0;32m    115\u001b[0m \n\u001b[0;32m    116\u001b[0m \u001b[38;5;124;03m\"\"\"\u001b[39;00m\n\u001b[1;32m--> 117\u001b[0m \u001b[38;5;28;01mreturn\u001b[39;00m loads(fp\u001b[38;5;241m.\u001b[39mread(),\n\u001b[0;32m    118\u001b[0m     encoding\u001b[38;5;241m=\u001b[39mencoding, \u001b[38;5;28mcls\u001b[39m\u001b[38;5;241m=\u001b[39m\u001b[38;5;28mcls\u001b[39m, object_hook\u001b[38;5;241m=\u001b[39mobject_hook,\n\u001b[0;32m    119\u001b[0m     parse_float\u001b[38;5;241m=\u001b[39mparse_float, parse_int\u001b[38;5;241m=\u001b[39mparse_int,\n\u001b[0;32m    120\u001b[0m     object_pairs_hook\u001b[38;5;241m=\u001b[39mobject_pairs_hook,\n\u001b[0;32m    121\u001b[0m     use_decimal\u001b[38;5;241m=\u001b[39muse_decimal, \u001b[38;5;241m*\u001b[39m\u001b[38;5;241m*\u001b[39mkw)\n",
      "File \u001b[1;32mC:\\pbgui\\venv\\lib\\site-packages\\hjson\\__init__.py:188\u001b[0m, in \u001b[0;36mloads\u001b[1;34m(s, encoding, cls, object_hook, parse_float, parse_int, object_pairs_hook, use_decimal, **kw)\u001b[0m\n\u001b[0;32m    187\u001b[0m     kw[\u001b[38;5;124m'\u001b[39m\u001b[38;5;124mparse_float\u001b[39m\u001b[38;5;124m'\u001b[39m] \u001b[38;5;241m=\u001b[39m Decimal\n\u001b[1;32m--> 188\u001b[0m \u001b[38;5;28;01mreturn\u001b[39;00m \u001b[38;5;28;43mcls\u001b[39;49m\u001b[43m(\u001b[49m\u001b[43mencoding\u001b[49m\u001b[38;5;241;43m=\u001b[39;49m\u001b[43mencoding\u001b[49m\u001b[43m,\u001b[49m\u001b[43m \u001b[49m\u001b[38;5;241;43m*\u001b[39;49m\u001b[38;5;241;43m*\u001b[39;49m\u001b[43mkw\u001b[49m\u001b[43m)\u001b[49m\u001b[38;5;241;43m.\u001b[39;49m\u001b[43mdecode\u001b[49m\u001b[43m(\u001b[49m\u001b[43ms\u001b[49m\u001b[43m)\u001b[49m\n",
      "File \u001b[1;32mC:\\pbgui\\venv\\lib\\site-packages\\hjson\\decoder.py:523\u001b[0m, in \u001b[0;36mHjsonDecoder.decode\u001b[1;34m(self, s, _PY3)\u001b[0m\n\u001b[0;32m    522\u001b[0m \u001b[38;5;28;01mif\u001b[39;00m end \u001b[38;5;241m!=\u001b[39m \u001b[38;5;28mlen\u001b[39m(s):\n\u001b[1;32m--> 523\u001b[0m     \u001b[38;5;28;01mraise\u001b[39;00m HjsonDecodeError(\u001b[38;5;124m\"\u001b[39m\u001b[38;5;124mExtra data\u001b[39m\u001b[38;5;124m\"\u001b[39m, s, end, \u001b[38;5;28mlen\u001b[39m(s))\n\u001b[0;32m    524\u001b[0m \u001b[38;5;28;01mreturn\u001b[39;00m obj\n",
      "\u001b[1;31mHjsonDecodeError\u001b[0m: Extra data: line 2 column 1 - line 9499 column 1 (char 5824 - 55292483)",
      "\nDuring handling of the above exception, another exception occurred:\n",
      "\u001b[1;31mException\u001b[0m                                 Traceback (most recent call last)",
      "File \u001b[1;32mC:\\pbgui\\passivbot\\src\\procedures.py:220\u001b[0m, in \u001b[0;36mload_config\u001b[1;34m(filepath)\u001b[0m\n\u001b[0;32m    219\u001b[0m \u001b[38;5;28;01mtry\u001b[39;00m:\n\u001b[1;32m--> 220\u001b[0m     config \u001b[38;5;241m=\u001b[39m \u001b[43mload_hjson_config\u001b[49m\u001b[43m(\u001b[49m\u001b[43mfilepath\u001b[49m\u001b[43m)\u001b[49m\n\u001b[0;32m    221\u001b[0m     config \u001b[38;5;241m=\u001b[39m format_config(config)\n",
      "File \u001b[1;32mC:\\pbgui\\passivbot\\src\\procedures.py:275\u001b[0m, in \u001b[0;36mload_hjson_config\u001b[1;34m(config_path)\u001b[0m\n\u001b[0;32m    274\u001b[0m \u001b[38;5;28;01mexcept\u001b[39;00m \u001b[38;5;167;01mException\u001b[39;00m \u001b[38;5;28;01mas\u001b[39;00m e:\n\u001b[1;32m--> 275\u001b[0m     \u001b[38;5;28;01mraise\u001b[39;00m \u001b[38;5;167;01mException\u001b[39;00m(\u001b[38;5;124mf\u001b[39m\u001b[38;5;124m\"\u001b[39m\u001b[38;5;124mfailed to load config file \u001b[39m\u001b[38;5;132;01m{\u001b[39;00mconfig_path\u001b[38;5;132;01m}\u001b[39;00m\u001b[38;5;124m \u001b[39m\u001b[38;5;132;01m{\u001b[39;00me\u001b[38;5;132;01m}\u001b[39;00m\u001b[38;5;124m\"\u001b[39m)\n",
      "\u001b[1;31mException\u001b[0m: failed to load config file C:\\pbgui\\passivbot\\opt_results_forager\\2024-08-09T17_36_15_39_coins_1c1a424e_all_results.txt Extra data: line 2 column 1 - line 9499 column 1 (char 5824 - 55292483)",
      "\nDuring handling of the above exception, another exception occurred:\n",
      "\u001b[1;31mException\u001b[0m                                 Traceback (most recent call last)",
      "Cell \u001b[1;32mIn[3], line 1\u001b[0m\n\u001b[1;32m----> 1\u001b[0m config \u001b[38;5;241m=\u001b[39m \u001b[43mload_config\u001b[49m\u001b[43m(\u001b[49m\u001b[38;5;124;43mr\u001b[39;49m\u001b[38;5;124;43m\"\u001b[39;49m\u001b[38;5;124;43mC:\u001b[39;49m\u001b[38;5;124;43m\\\u001b[39;49m\u001b[38;5;124;43mpbgui\u001b[39;49m\u001b[38;5;124;43m\\\u001b[39;49m\u001b[38;5;124;43mpassivbot\u001b[39;49m\u001b[38;5;124;43m\\\u001b[39;49m\u001b[38;5;124;43mopt_results_forager\u001b[39;49m\u001b[38;5;124;43m\\\u001b[39;49m\u001b[38;5;124;43m2024-08-09T17_36_15_39_coins_1c1a424e_all_results.txt\u001b[39;49m\u001b[38;5;124;43m\"\u001b[39;49m\u001b[43m)\u001b[49m\n\u001b[0;32m      2\u001b[0m {k: config[k] \u001b[38;5;28;01mfor\u001b[39;00m k \u001b[38;5;129;01min\u001b[39;00m [\u001b[38;5;124m'\u001b[39m\u001b[38;5;124mbacktest\u001b[39m\u001b[38;5;124m'\u001b[39m, \u001b[38;5;124m'\u001b[39m\u001b[38;5;124mbot\u001b[39m\u001b[38;5;124m'\u001b[39m, \u001b[38;5;124m'\u001b[39m\u001b[38;5;124mlive\u001b[39m\u001b[38;5;124m'\u001b[39m]}\n",
      "File \u001b[1;32mC:\\pbgui\\passivbot\\src\\procedures.py:231\u001b[0m, in \u001b[0;36mload_config\u001b[1;34m(filepath)\u001b[0m\n\u001b[0;32m    229\u001b[0m     \u001b[38;5;28;01mreturn\u001b[39;00m config\n\u001b[0;32m    230\u001b[0m \u001b[38;5;28;01mexcept\u001b[39;00m \u001b[38;5;167;01mException\u001b[39;00m \u001b[38;5;28;01mas\u001b[39;00m e:\n\u001b[1;32m--> 231\u001b[0m     \u001b[38;5;28;01mraise\u001b[39;00m \u001b[38;5;167;01mException\u001b[39;00m(\u001b[38;5;124mf\u001b[39m\u001b[38;5;124m\"\u001b[39m\u001b[38;5;124mfailed to load config \u001b[39m\u001b[38;5;132;01m{\u001b[39;00mfilepath\u001b[38;5;132;01m}\u001b[39;00m\u001b[38;5;124m: \u001b[39m\u001b[38;5;132;01m{\u001b[39;00me\u001b[38;5;132;01m}\u001b[39;00m\u001b[38;5;124m\"\u001b[39m)\n",
      "\u001b[1;31mException\u001b[0m: failed to load config C:\\pbgui\\passivbot\\opt_results_forager\\2024-08-09T17_36_15_39_coins_1c1a424e_all_results.txt: failed to load config file C:\\pbgui\\passivbot\\opt_results_forager\\2024-08-09T17_36_15_39_coins_1c1a424e_all_results.txt Extra data: line 2 column 1 - line 9499 column 1 (char 5824 - 55292483)"
     ]
    }
   ],
   "source": [
    "config = load_config(r\"C:\\pbgui\\passivbot\\opt_results_forager_analysis\\2024-08-10T08_36_44_39_coins_f0378ac1.json\")\n",
    "{k: config[k] for k in ['backtest', 'bot', 'live']}"
   ]
  },
  {
   "cell_type": "code",
   "execution_count": null,
   "id": "4b7b1beb-b661-4871-9750-687d8eeafd3f",
   "metadata": {},
   "outputs": [],
   "source": [
    "symbols = config['backtest']['symbols']\n",
    "hlcs, mss, results_path = await prepare_hlcs_mss(config)\n",
    "preferred_coins = calc_preferred_coins(hlcs, config)"
   ]
  },
  {
   "cell_type": "code",
   "execution_count": null,
   "id": "ef8d0f05-37ab-4a56-ab17-07a3cd0d70b7",
   "metadata": {},
   "outputs": [],
   "source": [
    "fills, equities, analysis = run_backtest(hlcs, preferred_coins, mss, config)"
   ]
  },
  {
   "cell_type": "code",
   "execution_count": null,
   "id": "b3ce4490-63ad-4e1f-8477-d188cc058fa4",
   "metadata": {},
   "outputs": [],
   "source": [
    "sts = utc_ms()\n",
    "fdf = process_forager_fills(fills)\n",
    "print(f'elapsed {utc_ms() - sts}')\n",
    "sts = utc_ms()\n",
    "equities = pd.Series(equities)\n",
    "analysis_py, balance_and_equity = analyze_fills_forager(config['backtest']['symbols'], hlcs, fdf, equities)\n",
    "for k in analysis_py:\n",
    "    if k not in analysis:\n",
    "        analysis[k] = analysis_py[k]\n",
    "print(f'elapsed {utc_ms() - sts}')\n",
    "pprint.pprint(analysis)\n",
    "from datetime import datetime, timedelta\n",
    "base_date = datetime.strptime(config['backtest']['start_date'], '%Y-%m-%d') \n",
    "balance_and_equity.index = pd.to_timedelta(balance_and_equity.index, unit='m') + base_date\n",
    "balance_and_equity.plot()"
   ]
  },
  {
   "cell_type": "code",
   "execution_count": null,
   "id": "7aa52402-c254-4ffa-8393-cef7f9428b1c",
   "metadata": {},
   "outputs": [],
   "source": [
    "syms_sorted_by_volume = fdf.groupby('symbol').fee_paid.sum().sort_values().index.to_list()\n",
    "for i, symbol in enumerate(syms_sorted_by_volume[:5]):\n",
    "    print(f\"Plotting fills for {symbol}\")\n",
    "    hlcs_df = pd.DataFrame(hlcs[:, symbols.index(symbol), :], columns=[\"high\", \"low\", \"close\"])\n",
    "    fdfc = fdf[fdf.symbol == symbol]\n",
    "    plt.clf()\n",
    "    plot_fills_forager(fdfc, hlcs_df)\n",
    "    plt.title(f\"Fills {symbol}\")\n",
    "    plt.xlabel = \"time\"\n",
    "    plt.ylabel = \"price\"\n",
    "    plt.show()\n"
   ]
  },
  {
   "cell_type": "code",
   "execution_count": null,
   "id": "9f424466-4fd1-4e87-a7fe-c33f29e9f435",
   "metadata": {},
   "outputs": [],
   "source": []
  },
  {
   "cell_type": "code",
   "execution_count": null,
   "id": "55019c75-93fc-459b-9a7d-4fd3a1f0d18a",
   "metadata": {},
   "outputs": [],
   "source": []
  },
  {
   "cell_type": "code",
   "execution_count": null,
   "id": "65367064-6d79-47ca-93e0-94f5b8067518",
   "metadata": {},
   "outputs": [],
   "source": []
  }
 ],
 "metadata": {
  "kernelspec": {
   "display_name": "Python 3 (ipykernel)",
   "language": "python",
   "name": "python3"
  },
  "language_info": {
   "codemirror_mode": {
    "name": "ipython",
    "version": 3
   },
   "file_extension": ".py",
   "mimetype": "text/x-python",
   "name": "python",
   "nbconvert_exporter": "python",
   "pygments_lexer": "ipython3",
   "version": "3.9.13"
  }
 },
 "nbformat": 4,
 "nbformat_minor": 5
}
