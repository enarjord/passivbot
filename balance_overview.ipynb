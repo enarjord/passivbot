{
 "cells": [
  {
   "cell_type": "code",
   "execution_count": 1,
   "metadata": {},
   "outputs": [],
   "source": [
    "%load_ext autoreload\n",
    "%autoreload 2"
   ]
  },
  {
   "cell_type": "code",
   "execution_count": 2,
   "metadata": {},
   "outputs": [
    {
     "name": "stdout",
     "output_type": "stream",
     "text": [
      "using numba\n"
     ]
    }
   ],
   "source": [
    "from procedures import (\n",
    "    create_binance_bot,\n",
    "    create_binance_bot_spot,\n",
    "    create_bybit_bot,\n",
    "    load_exchange_key_secret_passphrase,\n",
    ")\n",
    "from pure_funcs import get_template_live_config, ts_to_date, get_daily_from_income\n",
    "from njit_funcs import round_dynamic\n",
    "from time import time\n",
    "import pandas as pd\n",
    "import matplotlib.pyplot as plt"
   ]
  },
  {
   "cell_type": "code",
   "execution_count": 3,
   "metadata": {},
   "outputs": [],
   "source": [
    "plt.rcParams[\"figure.figsize\"] = [21, 13]\n",
    "pd.set_option(\"display.precision\", 10)"
   ]
  },
  {
   "cell_type": "code",
   "execution_count": 4,
   "metadata": {},
   "outputs": [
    {
     "name": "stdout",
     "output_type": "stream",
     "text": [
      "not using numba\n",
      "not using numba\n",
      "not using numba\n"
     ]
    },
    {
     "name": "stderr",
     "output_type": "stream",
     "text": [
      "ERROR:root:error fetching open orders string indices must be integers, not 'str'\n",
      "Traceback (most recent call last):\n",
      "  File \"/Users/manhngodh/development/passivbot/exchanges/binance.py\", line 317, in fetch_open_orders\n",
      "    \"order_id\": int(e[\"orderId\"]),\n",
      "                    ~^^^^^^^^^^^\n",
      "TypeError: string indices must be integers, not 'str'\n",
      "ERROR:root:error with update open orders 'bool' object is not iterable\n"
     ]
    },
    {
     "name": "stdout",
     "output_type": "stream",
     "text": [
      "linear perpetual\n",
      "initiating position, open orders, fills, exchange config, order book, and emas...\n",
      "returned: {'code': -2015, 'msg': 'Invalid API-key, IP, or permissions for action, request ip: 116.110.42.21'}\n"
     ]
    },
    {
     "name": "stderr",
     "output_type": "stream",
     "text": [
      "Traceback (most recent call last):\n",
      "  File \"/Users/manhngodh/development/passivbot/passivbot.py\", line 364, in update_open_orders\n",
      "    open_orders = [x for x in open_orders if x[\"symbol\"] == self.symbol]\n",
      "                  ^^^^^^^^^^^^^^^^^^^^^^^^^^^^^^^^^^^^^^^^^^^^^^^^^^^^^^\n",
      "TypeError: 'bool' object is not iterable\n",
      "Traceback (most recent call last):\n",
      "  File \"/Users/manhngodh/development/passivbot/exchanges/binance.py\", line 568, in fetch_fills\n",
      "    \"symbol\": x[\"symbol\"],\n",
      "              ~^^^^^^^^^^\n",
      "TypeError: string indices must be integers, not 'str'\n",
      "Traceback (most recent call last):\n",
      "  File \"/Users/manhngodh/development/passivbot/exchanges/binance.py\", line 513, in fetch_latest_fills\n",
      "    \"order_id\": elm[\"orderId\"],\n",
      "                ~~~^^^^^^^^^^^\n",
      "TypeError: string indices must be integers, not 'str'\n",
      "ERROR:root:error fetching pos or balance 0\n",
      "Traceback (most recent call last):\n",
      "  File \"/Users/manhngodh/development/passivbot/exchanges/binance.py\", line 348, in fetch_position\n",
      "    assert all(\n",
      "           ^^^^\n",
      "  File \"/Users/manhngodh/development/passivbot/exchanges/binance.py\", line 349, in <genexpr>\n",
      "    key in positions[0] for key in [\"symbol\", \"positionAmt\", \"entryPrice\"]\n",
      "           ~~~~~~~~~^^^\n",
      "KeyError: 0\n",
      "ERROR:root:error with update position \n"
     ]
    },
    {
     "name": "stdout",
     "output_type": "stream",
     "text": [
      "2024-07-06T04:11:57  {'code': -2015, 'msg': 'Invalid API-key, IP, or permissions for action, request ip: 116.110.42.21'} \n",
      "error fetching fills string indices must be integers, not 'str'\n",
      "error fetching latest fills string indices must be integers, not 'str'\n",
      "returned: {'code': -2015, 'msg': 'Invalid API-key, IP, or permissions for action, request ip: 116.110.42.21'}\n",
      "returned: {'code': -2015, 'msg': 'Invalid API-key, IP, or permissions for action, request ip: 116.110.42.21'}\n",
      "returned: {'code': -2015, 'msg': 'Invalid API-key, IP, or permissions for action, request ip: 116.110.42.21'}\n",
      "2024-07-06T04:11:57  {'code': -2015, 'msg': 'Invalid API-key, IP, or permissions for action, request ip: 116.110.42.21'} \n"
     ]
    },
    {
     "name": "stderr",
     "output_type": "stream",
     "text": [
      "Traceback (most recent call last):\n",
      "  File \"/Users/manhngodh/development/passivbot/passivbot.py\", line 432, in update_position\n",
      "    assert position is not None\n",
      "           ^^^^^^^^^^^^^^^^^^^^\n",
      "AssertionError\n"
     ]
    },
    {
     "name": "stdout",
     "output_type": "stream",
     "text": [
      "2024-07-06T04:11:57  {'code': -2015, 'msg': 'Invalid API-key, IP, or permissions for action, request ip: 116.110.42.21'} \n",
      "done\n"
     ]
    },
    {
     "name": "stderr",
     "output_type": "stream",
     "text": [
      "ERROR:root:error fetching pos or balance 0\n",
      "Traceback (most recent call last):\n",
      "  File \"/Users/manhngodh/development/passivbot/exchanges/binance.py\", line 348, in fetch_position\n",
      "    assert all(\n",
      "           ^^^^\n",
      "  File \"/Users/manhngodh/development/passivbot/exchanges/binance.py\", line 349, in <genexpr>\n",
      "    key in positions[0] for key in [\"symbol\", \"positionAmt\", \"entryPrice\"]\n",
      "           ~~~~~~~~~^^^\n",
      "KeyError: 0\n",
      "ERROR:root:error with update position \n",
      "Traceback (most recent call last):\n",
      "  File \"/Users/manhngodh/development/passivbot/passivbot.py\", line 432, in update_position\n",
      "    assert position is not None\n",
      "           ^^^^^^^^^^^^^^^^^^^^\n",
      "AssertionError\n"
     ]
    },
    {
     "name": "stdout",
     "output_type": "stream",
     "text": [
      "returned: {'code': -2015, 'msg': 'Invalid API-key, IP, or permissions for action, request ip: 116.110.42.21'}\n",
      "returned: {'code': -2015, 'msg': 'Invalid API-key, IP, or permissions for action, request ip: 116.110.42.21'}\n"
     ]
    },
    {
     "ename": "KeyError",
     "evalue": "'wallet_balance'",
     "output_type": "error",
     "traceback": [
      "\u001b[0;31m---------------------------------------------------------------------------\u001b[0m",
      "\u001b[0;31mKeyError\u001b[0m                                  Traceback (most recent call last)",
      "Cell \u001b[0;32mIn[4], line 31\u001b[0m\n\u001b[1;32m     29\u001b[0m tickers \u001b[38;5;241m=\u001b[39m \u001b[38;5;28;01mawait\u001b[39;00m bot\u001b[38;5;241m.\u001b[39mpublic_get(bot\u001b[38;5;241m.\u001b[39mendpoints[\u001b[38;5;124m\"\u001b[39m\u001b[38;5;124mticker\u001b[39m\u001b[38;5;124m\"\u001b[39m])\n\u001b[1;32m     30\u001b[0m tickersd \u001b[38;5;241m=\u001b[39m {x[\u001b[38;5;124m\"\u001b[39m\u001b[38;5;124msymbol\u001b[39m\u001b[38;5;124m\"\u001b[39m]: \u001b[38;5;28mfloat\u001b[39m(x[\u001b[38;5;124m\"\u001b[39m\u001b[38;5;124mbidPrice\u001b[39m\u001b[38;5;124m\"\u001b[39m]) \u001b[38;5;28;01mfor\u001b[39;00m x \u001b[38;5;129;01min\u001b[39;00m tickers}\n\u001b[0;32m---> 31\u001b[0m balance \u001b[38;5;241m=\u001b[39m \u001b[43mbot\u001b[49m\u001b[38;5;241;43m.\u001b[39;49m\u001b[43mposition\u001b[49m\u001b[43m[\u001b[49m\u001b[38;5;124;43m\"\u001b[39;49m\u001b[38;5;124;43mwallet_balance\u001b[39;49m\u001b[38;5;124;43m\"\u001b[39;49m\u001b[43m]\u001b[49m\n\u001b[1;32m     32\u001b[0m possl \u001b[38;5;241m=\u001b[39m []\n\u001b[1;32m     33\u001b[0m \u001b[38;5;28;01mfor\u001b[39;00m x \u001b[38;5;129;01min\u001b[39;00m poss:\n",
      "\u001b[0;31mKeyError\u001b[0m: 'wallet_balance'"
     ]
    }
   ],
   "source": [
    "config = get_template_live_config()\n",
    "config[\"market_type\"] = \"futures\"\n",
    "config[\"user\"] = \"binance_01\"\n",
    "config[\"exchange\"] = load_exchange_key_secret_passphrase(config[\"user\"])[0]\n",
    "config[\"symbol\"] = \"1000PEPEUSDT\"  # dummy symbol\n",
    "\n",
    "spot_quote = \"BTC\"\n",
    "\n",
    "n_days = 30\n",
    "start_time = (time() - 60 * 60 * 24 * n_days) * 1000\n",
    "end_time = time() * 1000\n",
    "\n",
    "if config[\"exchange\"] == \"binance\":\n",
    "    if config[\"market_type\"] == \"spot\":\n",
    "        raise Exception(\"implementation work in progress\")\n",
    "        bot = await create_binance_bot_spot(config)\n",
    "        balances = await bot.private_get(bot.endpoints[\"balance\"])\n",
    "        ball = []\n",
    "        for x in balances[\"balances\"]:\n",
    "            onhand = float(x[\"free\"]) + float(x[\"locked\"])\n",
    "            if onhand != 0.0:\n",
    "                ball.append({\"coin\": x[\"asset\"], \"onhand\": onhand})\n",
    "        symbols = [x[\"coin\"] + spot_quote for x in ball]\n",
    "        print(symbols)\n",
    "\n",
    "    else:\n",
    "        bot = await create_binance_bot(config)\n",
    "        poss = await bot.private_get(bot.endpoints[\"position\"])\n",
    "        tickers = await bot.public_get(bot.endpoints[\"ticker\"])\n",
    "        tickersd = {x[\"symbol\"]: float(x[\"bidPrice\"]) for x in tickers}\n",
    "        balance = bot.position[\"wallet_balance\"]\n",
    "        possl = []\n",
    "        for x in poss:\n",
    "            if float(x[\"positionAmt\"]) != 0.0:\n",
    "                possl.append(\n",
    "                    {\n",
    "                        \"symbol\": x[\"symbol\"],\n",
    "                        \"psize\": float(x[\"positionAmt\"]),\n",
    "                        \"pprice\": float(x[\"entryPrice\"]),\n",
    "                        \"side\": x[\"positionSide\"].lower(),\n",
    "                    }\n",
    "                )\n",
    "                possl[-1][\"last_price\"] = tickersd[x[\"symbol\"]]\n",
    "                if possl[-1][\"psize\"] > 0:\n",
    "                    possl[-1][\"PA_dist\"] = (possl[-1][\"pprice\"] - tickersd[x[\"symbol\"]]) / tickersd[\n",
    "                        x[\"symbol\"]\n",
    "                    ]\n",
    "                else:\n",
    "                    possl[-1][\"PA_dist\"] = (tickersd[x[\"symbol\"]] - possl[-1][\"pprice\"]) / possl[-1][\n",
    "                        \"pprice\"\n",
    "                    ]\n",
    "\n",
    "elif config[\"exchange\"] == \"bybit\":\n",
    "    bot = await create_bybit_bot(config)\n",
    "    poss = await bot.private_get(bot.endpoints[\"position\"])\n",
    "    tickers = await bot.public_get(bot.endpoints[\"ticker\"])\n",
    "    tickersd = {x[\"symbol\"]: float(x[\"bid_price\"]) for x in tickers[\"result\"]}\n",
    "    balance = bot.position[\"wallet_balance\"]\n",
    "    possl = []\n",
    "    for x in poss[\"result\"]:\n",
    "        x = x[\"data\"]\n",
    "        if float(x[\"size\"]) != 0.0:\n",
    "            possl.append(\n",
    "                {\n",
    "                    \"symbol\": x[\"symbol\"],\n",
    "                    \"psize\": float(x[\"size\"]),\n",
    "                    \"pprice\": float(x[\"entry_price\"]),\n",
    "                    \"side\": \"long\" if x[\"side\"] == \"Buy\" else \"short\",\n",
    "                }\n",
    "            )\n",
    "            possl[-1][\"last_price\"] = tickersd[x[\"symbol\"]]\n",
    "            if possl[-1][\"psize\"] > 0:\n",
    "                possl[-1][\"PA_dist\"] = (possl[-1][\"pprice\"] - tickersd[x[\"symbol\"]]) / tickersd[\n",
    "                    x[\"symbol\"]\n",
    "                ]\n",
    "            else:\n",
    "                possl[-1][\"PA_dist\"] = (tickersd[x[\"symbol\"]] - possl[-1][\"pprice\"]) / possl[-1][\n",
    "                    \"pprice\"\n",
    "                ]\n",
    "\n",
    "\n",
    "pdf = pd.DataFrame(possl)\n",
    "pdf.loc[:, \"pcost\"] = abs(pdf.psize * pdf.pprice)\n",
    "pdf.loc[:, \"wallet_exposure\"] = pdf.pcost / balance\n",
    "symbols = sorted(pdf.symbol.unique())\n",
    "\n",
    "incomes = []\n",
    "if config[\"exchange\"] == \"bybit\":\n",
    "    for symbol in symbols:\n",
    "        print(f\"fetching income for {symbol}\")\n",
    "        income = await bot.get_all_income(start_time=start_time, symbol=symbol)\n",
    "        incomes += income\n",
    "elif config[\"exchange\"] == \"binance\":\n",
    "    incomes = await bot.get_all_income(start_time=start_time)\n",
    "idf, bdf = get_daily_from_income(\n",
    "    sorted(incomes, key=lambda x: x[\"timestamp\"]),\n",
    "    bot.position[\"wallet_balance\"],\n",
    "    start_time=start_time,\n",
    "    end_time=end_time,\n",
    ")"
   ]
  },
  {
   "cell_type": "code",
   "execution_count": null,
   "metadata": {},
   "outputs": [],
   "source": [
    "print(f\"current balance {round_dynamic(balance, 5)}\")\n",
    "n_days = (time() * 1000 - idf.timestamp.iloc[0]) / 1000 / 60 / 60 / 24\n",
    "print(\"n days\", n_days)\n",
    "print(f'abs sum {round_dynamic(idf.income.sum(), 4)} {idf.iloc[-1][\"token\"]}')\n",
    "print(f'abs adg {round_dynamic(idf.income.sum() / n_days, 4)} {idf.iloc[-1][\"token\"]}')\n",
    "print(f\"pct sum {((balance + idf.income.sum()) / balance) - 1:.5f}\")\n",
    "print(f\"pct adg {((balance + idf.income.sum()) / balance) ** (1 / n_days) - 1:.5f}\")\n",
    "\n",
    "idf.income.cumsum().plot()"
   ]
  },
  {
   "cell_type": "code",
   "execution_count": null,
   "metadata": {},
   "outputs": [],
   "source": [
    "idf.tail(20)"
   ]
  },
  {
   "cell_type": "code",
   "execution_count": null,
   "metadata": {},
   "outputs": [],
   "source": [
    "bdf"
   ]
  },
  {
   "cell_type": "code",
   "execution_count": null,
   "metadata": {},
   "outputs": [],
   "source": [
    "bdf.gain.plot()"
   ]
  },
  {
   "cell_type": "code",
   "execution_count": null,
   "metadata": {},
   "outputs": [],
   "source": [
    "# check income last x days\n",
    "x = 3\n",
    "since = (time() - 60 * 60 * 24 * x) * 1000\n",
    "idf[idf.timestamp > since].groupby(\"symbol\").income.sum().sort_values()"
   ]
  },
  {
   "cell_type": "code",
   "execution_count": null,
   "metadata": {},
   "outputs": [],
   "source": [
    "pdf.sort_values(\"PA_dist\")"
   ]
  },
  {
   "cell_type": "code",
   "execution_count": null,
   "metadata": {},
   "outputs": [],
   "source": []
  }
 ],
 "metadata": {
  "kernelspec": {
   "display_name": "Python 3 (ipykernel)",
   "language": "python",
   "name": "python3"
  },
  "language_info": {
   "codemirror_mode": {
    "name": "ipython",
    "version": 3
   },
   "file_extension": ".py",
   "mimetype": "text/x-python",
   "name": "python",
   "nbconvert_exporter": "python",
   "pygments_lexer": "ipython3",
   "version": "3.12.4"
  }
 },
 "nbformat": 4,
 "nbformat_minor": 4
}
