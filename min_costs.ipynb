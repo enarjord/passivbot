{
 "cells": [
  {
   "cell_type": "code",
   "execution_count": 1,
   "id": "2c755c1d-2774-4ecd-80fd-b9200b147bf1",
   "metadata": {},
   "outputs": [
    {
     "name": "stdout",
     "output_type": "stream",
     "text": [
      "hjson not found, trying without...\n",
      "not using numba\n"
     ]
    },
    {
     "ename": "AssertionError",
     "evalue": "Currently ccxt 4.3.42 is installed. Please pip reinstall requirements.txt or install ccxt v4.3.24 manually",
     "output_type": "error",
     "traceback": [
      "\u001b[0;31m---------------------------------------------------------------------------\u001b[0m",
      "\u001b[0;31mAssertionError\u001b[0m                            Traceback (most recent call last)",
      "Cell \u001b[0;32mIn[1], line 6\u001b[0m\n\u001b[1;32m      4\u001b[0m \u001b[38;5;28;01mimport\u001b[39;00m \u001b[38;5;21;01mnumpy\u001b[39;00m \u001b[38;5;28;01mas\u001b[39;00m \u001b[38;5;21;01mnp\u001b[39;00m\n\u001b[1;32m      5\u001b[0m \u001b[38;5;28;01mimport\u001b[39;00m \u001b[38;5;21;01mpandas\u001b[39;00m \u001b[38;5;28;01mas\u001b[39;00m \u001b[38;5;21;01mpd\u001b[39;00m\n\u001b[0;32m----> 6\u001b[0m \u001b[38;5;28;01mfrom\u001b[39;00m \u001b[38;5;21;01mforager\u001b[39;00m \u001b[38;5;28;01mimport\u001b[39;00m get_min_costs_and_contract_multipliers\n",
      "File \u001b[0;32m~/development/passivbot/forager.py:11\u001b[0m\n\u001b[1;32m      7\u001b[0m \u001b[38;5;28;01mfrom\u001b[39;00m \u001b[38;5;21;01mprocedures\u001b[39;00m \u001b[38;5;28;01mimport\u001b[39;00m load_ccxt_version\n\u001b[1;32m      9\u001b[0m ccxt_version_req \u001b[38;5;241m=\u001b[39m load_ccxt_version()\n\u001b[1;32m     10\u001b[0m \u001b[38;5;28;01massert\u001b[39;00m (\n\u001b[0;32m---> 11\u001b[0m     ccxt\u001b[38;5;241m.\u001b[39m__version__ \u001b[38;5;241m==\u001b[39m ccxt_version_req\n\u001b[1;32m     12\u001b[0m ), \u001b[38;5;124mf\u001b[39m\u001b[38;5;124m\"\u001b[39m\u001b[38;5;124mCurrently ccxt \u001b[39m\u001b[38;5;132;01m{\u001b[39;00mccxt\u001b[38;5;241m.\u001b[39m__version__\u001b[38;5;132;01m}\u001b[39;00m\u001b[38;5;124m is installed. Please pip reinstall requirements.txt or install ccxt v\u001b[39m\u001b[38;5;132;01m{\u001b[39;00mccxt_version_req\u001b[38;5;132;01m}\u001b[39;00m\u001b[38;5;124m manually\u001b[39m\u001b[38;5;124m\"\u001b[39m\n\u001b[1;32m     13\u001b[0m \u001b[38;5;28;01mimport\u001b[39;00m \u001b[38;5;21;01mjson\u001b[39;00m\n\u001b[1;32m     14\u001b[0m \u001b[38;5;28;01mimport\u001b[39;00m \u001b[38;5;21;01mhjson\u001b[39;00m\n",
      "\u001b[0;31mAssertionError\u001b[0m: Currently ccxt 4.3.42 is installed. Please pip reinstall requirements.txt or install ccxt v4.3.24 manually"
     ]
    }
   ],
   "source": [
    "import ccxt.async_support as ccxt\n",
    "import json\n",
    "import pprint\n",
    "import numpy as np\n",
    "import pandas as pd\n",
    "from forager import get_min_costs_and_contract_multipliers"
   ]
  },
  {
   "cell_type": "code",
   "execution_count": null,
   "id": "92399db7-bc05-4a75-ac16-0d659632fcef",
   "metadata": {},
   "outputs": [],
   "source": [
    "# choices: okx, binanceusdm, bitget, bybit, kucoinfutures, bingx\n",
    "exchange = \"bingx\"\n",
    "try:\n",
    "    await cc.close()\n",
    "except:\n",
    "    pass\n",
    "cc = getattr(ccxt, exchange)()"
   ]
  },
  {
   "cell_type": "code",
   "execution_count": null,
   "id": "b03e4b7e-128b-4594-a3d9-36081d023f71",
   "metadata": {},
   "outputs": [],
   "source": [
    "res = await get_min_costs_and_contract_multipliers(cc)\n",
    "min_costs, c_mults = res"
   ]
  },
  {
   "cell_type": "code",
   "execution_count": null,
   "id": "6beb0b0c-1c8a-4f47-a704-1606237367cc",
   "metadata": {},
   "outputs": [],
   "source": [
    "sorted(min_costs.items(), key=lambda x: x[1], reverse=True)"
   ]
  },
  {
   "cell_type": "code",
   "execution_count": null,
   "id": "043c5902-b270-41b9-9727-1671804534eb",
   "metadata": {},
   "outputs": [],
   "source": []
  }
 ],
 "metadata": {
  "kernelspec": {
   "display_name": "Python 3 (ipykernel)",
   "language": "python",
   "name": "python3"
  },
  "language_info": {
   "codemirror_mode": {
    "name": "ipython",
    "version": 3
   },
   "file_extension": ".py",
   "mimetype": "text/x-python",
   "name": "python",
   "nbconvert_exporter": "python",
   "pygments_lexer": "ipython3",
   "version": "3.8.undefined"
  }
 },
 "nbformat": 4,
 "nbformat_minor": 5
}
